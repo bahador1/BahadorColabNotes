{
  "cells": [
    {
      "cell_type": "markdown",
      "metadata": {
        "id": "view-in-github",
        "colab_type": "text"
      },
      "source": [
        "<a href=\"https://colab.research.google.com/github/bahador1/BahadorColabNotes/blob/main/Dr_Ji1.ipynb\" target=\"_parent\"><img src=\"https://colab.research.google.com/assets/colab-badge.svg\" alt=\"Open In Colab\"/></a>"
      ]
    },
    {
      "cell_type": "code",
      "execution_count": null,
      "metadata": {
        "id": "2A_Nu1-Kn2bJ"
      },
      "outputs": [],
      "source": [
        "import torch\n",
        "import torchvision\n",
        "from torchvision.datasets import MNIST\n",
        "from torch.utils.data import random_split, DataLoader\n",
        "import torchvision.transforms as transforms\n",
        "import matplotlib.pyplot as plt\n",
        "import numpy as np\n",
        "\n",
        "%matplotlib inline\n",
        "plt.rcParams['figure.figsize'] = [5, 5]"
      ]
    },
    {
      "cell_type": "code",
      "execution_count": null,
      "metadata": {
        "id": "brYfQzfatgFD"
      },
      "outputs": [],
      "source": [
        "train_dataset = MNIST('/kaggle/working', train=True, download=True, transform=transforms.ToTensor())\n",
        "test_dataset = MNIST('/kaggle/working', train=False, download=True, transform=transforms.ToTensor())\n",
        "\n",
        "train_dataset, dev_dataset = random_split(train_dataset, [int(len(train_dataset) * 0.83), int(len(train_dataset) * 0.17)])"
      ]
    },
    {
      "cell_type": "code",
      "source": [],
      "metadata": {
        "id": "zwyFOtIsdNIE"
      },
      "execution_count": null,
      "outputs": []
    },
    {
      "cell_type": "code",
      "execution_count": null,
      "metadata": {
        "id": "yca_uBDMtgwG"
      },
      "outputs": [],
      "source": [
        "#define notebook constants\n",
        "\n",
        "total_train_size = len(train_dataset)\n",
        "total_test_size = len(test_dataset)\n",
        "total_dev_size = len(dev_dataset)\n",
        "\n",
        "classes = 10\n",
        "input_dim = 784\n",
        "\n",
        "num_clients =3\n",
        "rounds = 2\n",
        "batch_size = 128\n",
        "epochs_per_client = 3\n",
        "learning_rate = 2e-2"
      ]
    },
    {
      "cell_type": "code",
      "execution_count": null,
      "metadata": {
        "colab": {
          "base_uri": "https://localhost:8080/"
        },
        "id": "1FqyUDFhtmvZ",
        "outputId": "24f9987c-b3c8-47cc-fd42-a09aa5b7e73e"
      },
      "outputs": [
        {
          "output_type": "execute_result",
          "data": {
            "text/plain": [
              "(49800, 10200, 10000)"
            ]
          },
          "metadata": {},
          "execution_count": 123
        }
      ],
      "source": [
        "total_train_size, total_dev_size, total_test_size"
      ]
    },
    {
      "cell_type": "code",
      "execution_count": null,
      "metadata": {
        "id": "PKGRVopItrNg"
      },
      "outputs": [],
      "source": [
        "def get_device():\n",
        "    return torch.device('cuda') if torch.cuda.is_available() else torch.device('cpu')\n",
        "\n",
        "def to_device(data, device):\n",
        "    if isinstance(data, (list, tuple)):\n",
        "        return [to_device(x, device) for x in data]\n",
        "    return data.to(device, non_blocking=True)\n",
        "\n",
        "class DeviceDataLoader(DataLoader):\n",
        "        def __init__(self, dl, device):\n",
        "            self.dl = dl\n",
        "            self.device = device\n",
        "\n",
        "        def __iter__(self):\n",
        "            for batch in self.dl:\n",
        "                yield to_device(batch, self.device)\n",
        "\n",
        "        def __len__(self):\n",
        "            return len(self.dl)\n",
        "\n",
        "device = get_device()"
      ]
    },
    {
      "cell_type": "code",
      "execution_count": null,
      "metadata": {
        "id": "3xef2jG5tvVR"
      },
      "outputs": [],
      "source": [
        "class FederatedNet(torch.nn.Module):    \n",
        "    def __init__(self):\n",
        "        super().__init__()\n",
        "        self.conv1 = torch.nn.Conv2d(3, 4, 1)\n",
        "        self.conv2 = torch.nn.Conv2d(4, 4, 1)\n",
        "        self.maxpool = torch.nn.MaxPool2d(2, 2)\n",
        "        self.flatten = torch.nn.Flatten()\n",
        "        self.linear = torch.nn.Linear(1024, 10)\n",
        "        self.non_linearity = torch.nn.functional.relu\n",
        "        self.track_layers = {'conv1': self.conv1,  'linear': self.linear}\n",
        "    \n",
        "    def forward(self, x_batch):\n",
        "        out = self.conv1(x_batch)\n",
        "        out = self.non_linearity(out)\n",
        "        out = self.conv2(out)\n",
        "        out = self.non_linearity(out)\n",
        "        out = self.maxpool(out)\n",
        "        out = self.flatten(out)\n",
        "        out = self.linear(out)\n",
        "        return out\n",
        "    \n",
        "    def get_track_layers(self):\n",
        "        return self.track_layers\n",
        "    \n",
        "    def apply_parameters(self, parameters_dict):\n",
        "        with torch.no_grad():\n",
        "            for layer_name in parameters_dict:\n",
        "                self.track_layers[layer_name].weight.data *= 0\n",
        "                self.track_layers[layer_name].bias.data *= 0\n",
        "                self.track_layers[layer_name].weight.data += parameters_dict[layer_name]['weight']\n",
        "                self.track_layers[layer_name].bias.data += parameters_dict[layer_name]['bias']\n",
        "    \n",
        "    def get_parameters(self):\n",
        "        parameters_dict = dict()\n",
        "        for layer_name in self.track_layers:\n",
        "            parameters_dict[layer_name] = {\n",
        "                'weight': self.track_layers[layer_name].weight.data, \n",
        "                'bias': self.track_layers[layer_name].bias.data\n",
        "            }\n",
        "        return parameters_dict\n",
        "    \n",
        "    def batch_accuracy(self, outputs, labels):\n",
        "        with torch.no_grad():\n",
        "            _, predictions = torch.max(outputs, dim=1)\n",
        "            return torch.tensor(torch.sum(predictions == labels).item() / len(predictions))\n",
        "    \n",
        "    def _process_batch(self, batch):\n",
        "        images, labels = batch\n",
        "        outputs = self(images)\n",
        "        loss = torch.nn.functional.cross_entropy(outputs, labels)\n",
        "        accuracy = self.batch_accuracy(outputs, labels)\n",
        "        return (loss, accuracy)\n",
        "    \n",
        "    def fit(self, dataset, epochs, lr, batch_size=128, opt=torch.optim.SGD):\n",
        "        dataloader = DeviceDataLoader(DataLoader(dataset, batch_size, shuffle=True), device)\n",
        "        optimizer = opt(self.parameters(), lr)\n",
        "        history = []\n",
        "        for epoch in range(epochs):\n",
        "            losses = []\n",
        "            accs = []\n",
        "            for batch in dataloader:\n",
        "                loss, acc = self._process_batch(batch)\n",
        "                loss.backward()\n",
        "                optimizer.step()\n",
        "                optimizer.zero_grad()\n",
        "                loss.detach()\n",
        "                losses.append(loss)\n",
        "                accs.append(acc)\n",
        "            avg_loss = torch.stack(losses).mean().item()\n",
        "            avg_acc = torch.stack(accs).mean().item()\n",
        "            history.append((avg_loss, avg_acc))\n",
        "        return history\n",
        "    \n",
        "    def evaluate(self, dataset, batch_size=128):\n",
        "        dataloader = DeviceDataLoader(DataLoader(dataset, batch_size), device)\n",
        "        losses = []\n",
        "        accs = []\n",
        "        with torch.no_grad():\n",
        "            for batch in dataloader:\n",
        "                loss, acc = self._process_batch(batch)\n",
        "                losses.append(loss)\n",
        "                accs.append(acc)\n",
        "        avg_loss = torch.stack(losses).mean().item()\n",
        "        avg_acc = torch.stack(accs).mean().item()\n",
        "        return (avg_loss, avg_acc)"
      ]
    },
    {
      "cell_type": "code",
      "execution_count": null,
      "metadata": {
        "id": "9qpRfdW6wLFY"
      },
      "outputs": [],
      "source": [
        "class Client:\n",
        "    def __init__(self, client_id, dataset):\n",
        "        self.client_id = client_id\n",
        "        self.dataset = dataset\n",
        "    \n",
        "    def get_dataset_size(self):\n",
        "        return len(self.dataset)\n",
        "    \n",
        "    def get_client_id(self):\n",
        "        return self.client_id\n",
        "    \n",
        "    def train(self, parameters_dict):\n",
        "        net = to_device(FederatedNet(), device)\n",
        "        net.apply_parameters(parameters_dict)\n",
        "        train_history = net.fit(self.dataset, epochs_per_client, learning_rate, batch_size)\n",
        "        print('{}: Loss = {}, Accuracy = {}'.format(self.client_id, round(train_history[-1][0], 4), round(train_history[-1][1], 4)))\n",
        "        return net.get_parameters()"
      ]
    },
    {
      "cell_type": "markdown",
      "source": [
        "## Sieving "
      ],
      "metadata": {
        "id": "anLyMrpA-8xf"
      }
    },
    {
      "cell_type": "code",
      "source": [
        "from torch.utils.data import Subset\n",
        "from sklearn.model_selection import train_test_split\n",
        "import torchvision.datasets as datasets\n",
        "from torchvision.datasets import CIFAR10\n",
        "\n",
        "\n",
        "transform = transforms.Compose(\n",
        "    [transforms.ToTensor(), transforms.Normalize((0.5, 0.5, 0.5), (0.5, 0.5, 0.5))]\n",
        ")\n",
        "trainset = CIFAR10(\"./dataset\", train=True, download=True, transform=transform)\n",
        "testset = CIFAR10(\"./dataset\", train=False, download=True, transform=transform)\n",
        "targets = trainset.targets\n",
        "target_indices = np.arange(len(targets))\n",
        "\n",
        "# Split into train and validation\n",
        "train_idx, val_idx = train_test_split(target_indices, train_size=0.8)"
      ],
      "metadata": {
        "colab": {
          "base_uri": "https://localhost:8080/"
        },
        "id": "I7AF2DRv-7mS",
        "outputId": "fe51e993-bd43-46cc-aae4-3e02d27fd933"
      },
      "execution_count": null,
      "outputs": [
        {
          "output_type": "stream",
          "name": "stdout",
          "text": [
            "Files already downloaded and verified\n",
            "Files already downloaded and verified\n"
          ]
        }
      ]
    },
    {
      "cell_type": "code",
      "source": [
        "train_dataset, dev_dataset = random_split(train_dataset, [int(len(train_dataset) * 0.83), int(len(train_dataset) * 0.17)])"
      ],
      "metadata": {
        "id": "z-g6cv4spxOw"
      },
      "execution_count": null,
      "outputs": []
    },
    {
      "cell_type": "code",
      "source": [
        "# partitioning for plane dataset\n",
        "\n",
        "# Get indices to keep from train split_plane\n",
        "idx_to_keep = np.array(targets)[train_idx] ==0 \n",
        "train_idx_plane = train_idx[idx_to_keep][:-1]\n",
        "train_dataset_planeSubset = Subset(trainset, train_idx_plane)\n",
        "\n",
        "# Split training set into 10 partitions to simulate the individual dataset\n",
        "NUM_CLIENTS = 3\n",
        "partition_size = len(train_dataset_planeSubset) // NUM_CLIENTS\n",
        "lengths = [partition_size] * NUM_CLIENTS\n",
        "train_datasets_plane = random_split(train_dataset_planeSubset, lengths, torch.Generator().manual_seed(42))\n",
        "\n",
        "### dev/ test\n",
        "# Get indices to keep from dev split_plane\n",
        "idx_to_keep = np.array(targets)[val_idx] ==0 \n",
        "val_idx_plane = val_idx[idx_to_keep][:-3]\n",
        "val_dataset_planeSubset = Subset(trainset, val_idx_plane)\n",
        "\n",
        "# Split training set into 10 partitions to simulate the individual dataset\n",
        "NUM_CLIENTS = 3\n",
        "partition_size = len(val_dataset_planeSubset) // NUM_CLIENTS\n",
        "lengths = [partition_size] * NUM_CLIENTS\n",
        "val_datasets_plane = random_split(val_dataset_planeSubset, lengths, torch.Generator().manual_seed(42))\n",
        "\n"
      ],
      "metadata": {
        "colab": {
          "base_uri": "https://localhost:8080/",
          "height": 358
        },
        "id": "re-DMv9f_a6o",
        "outputId": "c898060f-7222-48bd-d6df-0ddb28d40386"
      },
      "execution_count": null,
      "outputs": [
        {
          "output_type": "error",
          "ename": "ValueError",
          "evalue": "ignored",
          "traceback": [
            "\u001b[0;31m---------------------------------------------------------------------------\u001b[0m",
            "\u001b[0;31mValueError\u001b[0m                                Traceback (most recent call last)",
            "\u001b[0;32m<ipython-input-273-7a7690f989e0>\u001b[0m in \u001b[0;36m<cell line: 12>\u001b[0;34m()\u001b[0m\n\u001b[1;32m     10\u001b[0m \u001b[0mpartition_size\u001b[0m \u001b[0;34m=\u001b[0m \u001b[0mlen\u001b[0m\u001b[0;34m(\u001b[0m\u001b[0mtrain_dataset_planeSubset\u001b[0m\u001b[0;34m)\u001b[0m \u001b[0;34m//\u001b[0m \u001b[0mNUM_CLIENTS\u001b[0m\u001b[0;34m\u001b[0m\u001b[0;34m\u001b[0m\u001b[0m\n\u001b[1;32m     11\u001b[0m \u001b[0mlengths\u001b[0m \u001b[0;34m=\u001b[0m \u001b[0;34m[\u001b[0m\u001b[0mpartition_size\u001b[0m\u001b[0;34m]\u001b[0m \u001b[0;34m*\u001b[0m \u001b[0mNUM_CLIENTS\u001b[0m\u001b[0;34m\u001b[0m\u001b[0;34m\u001b[0m\u001b[0m\n\u001b[0;32m---> 12\u001b[0;31m \u001b[0mtrain_datasets_plane\u001b[0m \u001b[0;34m=\u001b[0m \u001b[0mrandom_split\u001b[0m\u001b[0;34m(\u001b[0m\u001b[0mtrain_dataset_planeSubset\u001b[0m\u001b[0;34m,\u001b[0m \u001b[0mlengths\u001b[0m\u001b[0;34m,\u001b[0m \u001b[0mtorch\u001b[0m\u001b[0;34m.\u001b[0m\u001b[0mGenerator\u001b[0m\u001b[0;34m(\u001b[0m\u001b[0;34m)\u001b[0m\u001b[0;34m.\u001b[0m\u001b[0mmanual_seed\u001b[0m\u001b[0;34m(\u001b[0m\u001b[0;36m42\u001b[0m\u001b[0;34m)\u001b[0m\u001b[0;34m)\u001b[0m\u001b[0;34m\u001b[0m\u001b[0;34m\u001b[0m\u001b[0m\n\u001b[0m\u001b[1;32m     13\u001b[0m \u001b[0;34m\u001b[0m\u001b[0m\n\u001b[1;32m     14\u001b[0m \u001b[0;31m### dev/ test\u001b[0m\u001b[0;34m\u001b[0m\u001b[0;34m\u001b[0m\u001b[0m\n",
            "\u001b[0;32m/usr/local/lib/python3.10/dist-packages/torch/utils/data/dataset.py\u001b[0m in \u001b[0;36mrandom_split\u001b[0;34m(dataset, lengths, generator)\u001b[0m\n\u001b[1;32m    351\u001b[0m     \u001b[0;31m# Cannot verify that dataset is Sized\u001b[0m\u001b[0;34m\u001b[0m\u001b[0;34m\u001b[0m\u001b[0m\n\u001b[1;32m    352\u001b[0m     \u001b[0;32mif\u001b[0m \u001b[0msum\u001b[0m\u001b[0;34m(\u001b[0m\u001b[0mlengths\u001b[0m\u001b[0;34m)\u001b[0m \u001b[0;34m!=\u001b[0m \u001b[0mlen\u001b[0m\u001b[0;34m(\u001b[0m\u001b[0mdataset\u001b[0m\u001b[0;34m)\u001b[0m\u001b[0;34m:\u001b[0m    \u001b[0;31m# type: ignore[arg-type]\u001b[0m\u001b[0;34m\u001b[0m\u001b[0;34m\u001b[0m\u001b[0m\n\u001b[0;32m--> 353\u001b[0;31m         \u001b[0;32mraise\u001b[0m \u001b[0mValueError\u001b[0m\u001b[0;34m(\u001b[0m\u001b[0;34m\"Sum of input lengths does not equal the length of the input dataset!\"\u001b[0m\u001b[0;34m)\u001b[0m\u001b[0;34m\u001b[0m\u001b[0;34m\u001b[0m\u001b[0m\n\u001b[0m\u001b[1;32m    354\u001b[0m \u001b[0;34m\u001b[0m\u001b[0m\n\u001b[1;32m    355\u001b[0m     \u001b[0mindices\u001b[0m \u001b[0;34m=\u001b[0m \u001b[0mrandperm\u001b[0m\u001b[0;34m(\u001b[0m\u001b[0msum\u001b[0m\u001b[0;34m(\u001b[0m\u001b[0mlengths\u001b[0m\u001b[0;34m)\u001b[0m\u001b[0;34m,\u001b[0m \u001b[0mgenerator\u001b[0m\u001b[0;34m=\u001b[0m\u001b[0mgenerator\u001b[0m\u001b[0;34m)\u001b[0m\u001b[0;34m.\u001b[0m\u001b[0mtolist\u001b[0m\u001b[0;34m(\u001b[0m\u001b[0;34m)\u001b[0m  \u001b[0;31m# type: ignore[call-overload]\u001b[0m\u001b[0;34m\u001b[0m\u001b[0;34m\u001b[0m\u001b[0m\n",
            "\u001b[0;31mValueError\u001b[0m: Sum of input lengths does not equal the length of the input dataset!"
          ]
        }
      ]
    },
    {
      "cell_type": "code",
      "source": [
        "# partitioning for car images\n",
        "\n",
        "# for  using  car dataset\n",
        "idx_to_keep = np.array(targets)[train_idx] == 1 \n",
        "train_idx_car  = train_idx[idx_to_keep][:-2]\n",
        "train_dataset_carSubset = Subset(trainset, train_idx_car)\n",
        "# Split training set into 10 partitions to simulate the individual dataset\n",
        "NUM_CLIENTS = 3\n",
        "partition_size = len(train_dataset_carSubset) // NUM_CLIENTS\n",
        "lengths = [partition_size] * NUM_CLIENTS\n",
        "train_datasets_car = random_split(train_dataset_carSubset, lengths, torch.Generator().manual_seed(42))\n",
        "\n",
        "###dev/ test\n",
        "# partitioning for car images\n",
        "\n",
        "# for  using  car dataset\n",
        "idx_to_keep = np.array(targets)[val_idx] == 1 \n",
        "val_idx_car  = val_idx[idx_to_keep]\n",
        "val_dataset_carSubset = Subset(trainset, val_idx_car)\n",
        "# Split training set into 10 partitions to simulate the individual dataset\n",
        "NUM_CLIENTS = 3\n",
        "partition_size = len(val_dataset_carSubset) // NUM_CLIENTS\n",
        "lengths = [partition_size] * NUM_CLIENTS\n",
        "val_datasets_car = random_split(val_dataset_carSubset, lengths, torch.Generator().manual_seed(42))"
      ],
      "metadata": {
        "id": "LKFYr_ANBH_E"
      },
      "execution_count": null,
      "outputs": []
    },
    {
      "cell_type": "code",
      "source": [
        "client_datasets_bm1 = datasets_plane + datasets_car\n",
        "training_data_all = 0\n",
        "for i in client_datasets_bm1:\n",
        "    training_data_all += len(i)\n",
        "training_data_all"
      ],
      "metadata": {
        "colab": {
          "base_uri": "https://localhost:8080/"
        },
        "id": "xoR8BuHjYBTI",
        "outputId": "b6f29c18-3f08-4674-b162-df245429226f"
      },
      "execution_count": null,
      "outputs": [
        {
          "output_type": "execute_result",
          "data": {
            "text/plain": [
              "5046"
            ]
          },
          "metadata": {},
          "execution_count": 265
        }
      ]
    },
    {
      "cell_type": "code",
      "source": [
        "#concat all datset\n",
        "train_dataset_concatenated= torch.utils.data.ConcatDataset([train_datasets_plane[0], train_datasets_plane[1], train_datasets_plane[2], train_datasets_car[0], train_datasets_car[1], train_datasets_car[2]])"
      ],
      "metadata": {
        "id": "YJ1VLAsAiMHg"
      },
      "execution_count": null,
      "outputs": []
    },
    {
      "cell_type": "code",
      "source": [
        "train_dataset_concatenated.__len__()"
      ],
      "metadata": {
        "colab": {
          "base_uri": "https://localhost:8080/"
        },
        "id": "Wu0NFo21pzbP",
        "outputId": "7ac149d1-8046-4085-8721-072f7da93d1b"
      },
      "execution_count": null,
      "outputs": [
        {
          "output_type": "execute_result",
          "data": {
            "text/plain": [
              "8034"
            ]
          },
          "metadata": {},
          "execution_count": 272
        }
      ]
    },
    {
      "cell_type": "code",
      "source": [
        "\n"
      ],
      "metadata": {
        "colab": {
          "base_uri": "https://localhost:8080/"
        },
        "id": "TJfIM3repRyT",
        "outputId": "4a604409-de79-46bd-a041-eab1ed51968d"
      },
      "execution_count": null,
      "outputs": [
        {
          "output_type": "execute_result",
          "data": {
            "text/plain": [
              "<torch.utils.data.dataset.ConcatDataset at 0x7fd10996cfa0>"
            ]
          },
          "metadata": {},
          "execution_count": 268
        }
      ]
    },
    {
      "cell_type": "code",
      "source": [
        "trainset = CIFAR10(\"./dataset\", train=True, download=True, transform=transform)\n",
        "testset = CIFAR10(\"./dataset\", train=False, download=True, transform=transform)\n",
        "\n",
        "train_dataset_inner, dev_dataset_inner = random_split(trainset, [int(len(trainset) * 0.83), int(len(trainset) * 0.17)])"
      ],
      "metadata": {
        "colab": {
          "base_uri": "https://localhost:8080/"
        },
        "id": "5PHh7yl2qjNY",
        "outputId": "644631a9-f3cf-4ba9-91ce-4d656f4c759d"
      },
      "execution_count": null,
      "outputs": [
        {
          "output_type": "stream",
          "name": "stdout",
          "text": [
            "Files already downloaded and verified\n",
            "Files already downloaded and verified\n"
          ]
        }
      ]
    },
    {
      "cell_type": "code",
      "source": [
        "dev_dataset_concatendate = torch.utils.data.ConcatDataset([val_datasets_plane[0], val_datasets_plane[1], val_datasets_plane[2], val_datasets_car[0], val_datasets_car[1], val_datasets_car[2]])"
      ],
      "metadata": {
        "id": "wqmD7ldNjdzZ"
      },
      "execution_count": null,
      "outputs": []
    },
    {
      "cell_type": "code",
      "source": [
        "dev_dataset_concatenated.__len__()"
      ],
      "metadata": {
        "colab": {
          "base_uri": "https://localhost:8080/"
        },
        "id": "PdntOfIyn7Te",
        "outputId": "74f2b5c2-3906-4583-aff9-67e6c21e4f1f"
      },
      "execution_count": null,
      "outputs": [
        {
          "output_type": "execute_result",
          "data": {
            "text/plain": [
              "1959"
            ]
          },
          "metadata": {},
          "execution_count": 276
        }
      ]
    },
    {
      "cell_type": "markdown",
      "source": [],
      "metadata": {
        "id": "5rEohktUjdaN"
      }
    },
    {
      "cell_type": "code",
      "source": [
        "subset_indices = np.random.randint(0, 50000,8025) # select your indices here as a list\n",
        "subset = torch.utils.data.Subset(trainset, subset_indices)\n",
        "train_dataset = torch.utils.data.DataLoader(subset, shuffle = True)"
      ],
      "metadata": {
        "id": "t3YHeh8Df0xl"
      },
      "execution_count": null,
      "outputs": []
    },
    {
      "cell_type": "code",
      "source": [
        "subset_indices = np.random.randint(0, 50000,1995) # select your indices here as a list\n",
        "subset = torch.utils.data.Subset(trainset, subset_indices)\n",
        "dev_dataset = torch.utils.data.DataLoader(subset, shuffle = True)"
      ],
      "metadata": {
        "id": "kJH3i-4hhJBV"
      },
      "execution_count": null,
      "outputs": []
    },
    {
      "cell_type": "code",
      "source": [],
      "metadata": {
        "colab": {
          "base_uri": "https://localhost:8080/"
        },
        "id": "iTHsBa_hfqtm",
        "outputId": "f8766a24-4c2b-4f43-9da7-788795637fe4"
      },
      "execution_count": null,
      "outputs": [
        {
          "output_type": "execute_result",
          "data": {
            "text/plain": [
              "array([43152, 31792,  8352, ..., 19954, 42017, 45826])"
            ]
          },
          "metadata": {},
          "execution_count": 225
        }
      ]
    },
    {
      "cell_type": "code",
      "source": [
        "# Setup client\n",
        "clients_plane = [Client('client_plane_' + str(i), client_datasets_bm1[i]) for i in range(num_clients)]"
      ],
      "metadata": {
        "id": "BaI6T_6xBcKf"
      },
      "execution_count": null,
      "outputs": []
    },
    {
      "cell_type": "code",
      "source": [
        "clients_plane"
      ],
      "metadata": {
        "colab": {
          "base_uri": "https://localhost:8080/"
        },
        "id": "Iv2F8iY-YVN3",
        "outputId": "db92b2d1-a3e6-460d-b4bc-111022fd55b6"
      },
      "execution_count": null,
      "outputs": [
        {
          "output_type": "execute_result",
          "data": {
            "text/plain": [
              "[<__main__.Client at 0x7fd1097da020>,\n",
              " <__main__.Client at 0x7fd1097d8640>,\n",
              " <__main__.Client at 0x7fd1097dab30>]"
            ]
          },
          "metadata": {},
          "execution_count": 183
        }
      ]
    },
    {
      "cell_type": "code",
      "source": [
        "# Setup client\n",
        "clients_car = [Client('client_car_' + str(i), datasets_car[i]) for i in range(num_clients)]"
      ],
      "metadata": {
        "id": "F2-guMDvA3RM"
      },
      "execution_count": null,
      "outputs": []
    },
    {
      "cell_type": "code",
      "source": [
        "clients = clients_plane + clients_car"
      ],
      "metadata": {
        "id": "717LwxdYVqO6"
      },
      "execution_count": null,
      "outputs": []
    },
    {
      "cell_type": "code",
      "source": [
        "clients[3].client_id"
      ],
      "metadata": {
        "colab": {
          "base_uri": "https://localhost:8080/",
          "height": 35
        },
        "id": "R1Vqzyy4Xc97",
        "outputId": "6e3b6d97-3fe9-42a9-9467-382ec516ebfd"
      },
      "execution_count": null,
      "outputs": [
        {
          "output_type": "execute_result",
          "data": {
            "text/plain": [
              "'client_car_0'"
            ],
            "application/vnd.google.colaboratory.intrinsic+json": {
              "type": "string"
            }
          },
          "metadata": {},
          "execution_count": 186
        }
      ]
    },
    {
      "cell_type": "code",
      "source": [
        "#verifying\n",
        "# functions to show an image\n",
        "def imshow(img):\n",
        "    img = img / 2 + 0.5     # unnormalize\n",
        "    npimg = img.numpy()\n",
        "    plt.imshow(np.transpose(npimg, (1, 2, 0)))\n",
        "    plt.show()\n",
        "dataiter = iter(datasets_car[0])\n",
        "images, labels = next(dataiter)\n",
        "imshow(torchvision.utils.make_grid(images))"
      ],
      "metadata": {
        "colab": {
          "base_uri": "https://localhost:8080/",
          "height": 445
        },
        "id": "MbeP7erSY4gg",
        "outputId": "9d5762ff-29a5-4286-b4f8-2ab062725230"
      },
      "execution_count": null,
      "outputs": [
        {
          "output_type": "display_data",
          "data": {
            "text/plain": [
              "<Figure size 500x500 with 1 Axes>"
            ],
            "image/png": "[encoded data removed]"
          },
          "metadata": {}
        }
      ]
    },
    {
      "cell_type": "markdown",
      "source": [
        "## continue"
      ],
      "metadata": {
        "id": "sWTWI4Db_ER_"
      }
    },
    {
      "cell_type": "code",
      "execution_count": null,
      "metadata": {
        "id": "24GKJovfwPnK"
      },
      "outputs": [],
      "source": [
        "# Setup client\n",
        "examples_per_client = total_train_size // num_clients\n",
        "client_datasets = random_split(train_dataset, [min(i + examples_per_client, \n",
        "           total_train_size) - i for i in range(0, total_train_size, examples_per_client)])\n",
        "clients = [Client('client_' + str(i), client_datasets[i]) for i in range(num_clients)]"
      ]
    },
    {
      "cell_type": "code",
      "execution_count": null,
      "metadata": {
        "colab": {
          "base_uri": "https://localhost:8080/"
        },
        "id": "RAYR3icTqM9o",
        "outputId": "ae75ed95-d045-4b8c-9f3f-0716dc2852ee"
      },
      "outputs": [
        {
          "output_type": "execute_result",
          "data": {
            "text/plain": [
              "{'client_0': None, 'client_1': None, 'client_2': None}"
            ]
          },
          "metadata": {},
          "execution_count": 194
        }
      ],
      "source": [
        "# edit\n",
        "empty_dict = dict()\n",
        "clientlist = ['client_'+ str(i) for i in range(num_clients)]\n",
        "empty_dict =empty_dict.fromkeys(clientlist)\n",
        "empty_dict"
      ]
    },
    {
      "cell_type": "code",
      "source": [
        "# edit\n",
        "roundlist = ['round_' + str(i+1) for i in range(2)]\n",
        "roundlist"
      ],
      "metadata": {
        "colab": {
          "base_uri": "https://localhost:8080/"
        },
        "id": "5ji0kwIFDBGh",
        "outputId": "9e19c731-fcfd-444b-eaa6-effa9eeb4dbd"
      },
      "execution_count": null,
      "outputs": [
        {
          "output_type": "execute_result",
          "data": {
            "text/plain": [
              "['round_1', 'round_2']"
            ]
          },
          "metadata": {},
          "execution_count": 195
        }
      ]
    },
    {
      "cell_type": "code",
      "source": [
        "#edit\n",
        "all_info = dict()"
      ],
      "metadata": {
        "id": "GOo5UZwSICuu"
      },
      "execution_count": null,
      "outputs": []
    },
    {
      "cell_type": "code",
      "execution_count": null,
      "metadata": {
        "colab": {
          "base_uri": "https://localhost:8080/"
        },
        "id": "UK-eLnsUwR97",
        "outputId": "3fd7efd0-3da6-47ab-e4bb-2011ddc3fad5"
      },
      "outputs": [
        {
          "output_type": "stream",
          "name": "stdout",
          "text": [
            "Start Round 1 ...\n",
            "client_plane_0: Loss = 0.0074, Accuracy = 1.0\n",
            "client_plane_1: Loss = 0.0075, Accuracy = 1.0\n",
            "client_plane_2: Loss = 0.0097, Accuracy = 1.0\n",
            "client_car_0: Loss = 0.011, Accuracy = 1.0\n",
            "client_car_1: Loss = 0.0081, Accuracy = 1.0\n",
            "client_car_2: Loss = 0.0062, Accuracy = 1.0\n",
            "After round 1, train_loss = 2.3029, dev_loss = 2.3029, dev_acc = 0.0979\n",
            "\n",
            "Start Round 2 ...\n",
            "client_plane_0: Loss = 0.0123, Accuracy = 1.0\n",
            "client_plane_1: Loss = 0.0095, Accuracy = 1.0\n",
            "client_plane_2: Loss = 0.0092, Accuracy = 1.0\n",
            "client_car_0: Loss = 0.0073, Accuracy = 1.0\n",
            "client_car_1: Loss = 0.0112, Accuracy = 1.0\n",
            "client_car_2: Loss = 0.0133, Accuracy = 1.0\n",
            "After round 2, train_loss = 2.3029, dev_loss = 2.3025, dev_acc = 0.1071\n",
            "\n"
          ]
        }
      ],
      "source": [
        "# Start server\n",
        "\n",
        "global_net = to_device(FederatedNet(), device)\n",
        "history = []\n",
        "for i in range(rounds):\n",
        "    print('Start Round {} ...'.format(i + 1))\n",
        "    curr_parameters = global_net.get_parameters()\n",
        "    new_parameters = dict([(layer_name, {'weight': 0, 'bias': 0}) for layer_name in curr_parameters])\n",
        "    for client in clients:\n",
        "        client_parameters = client.train(curr_parameters)\n",
        "        empty_dict[client.client_id] = client_parameters  # edit\n",
        "        fraction = client.get_dataset_size() / total_train_size\n",
        "        for layer_name in client_parameters:\n",
        "            new_parameters[layer_name]['weight'] += fraction * client_parameters[layer_name]['weight']\n",
        "            new_parameters[layer_name]['bias'] += fraction * client_parameters[layer_name]['bias']\n",
        "    \n",
        "    all_weights = {**empty_dict, \"global_weight\": new_parameters}## \n",
        "    global_net.apply_parameters(new_parameters)\n",
        "    info_round = dict.fromkeys([roundlist[i]], all_weights)#edit\n",
        "    all_info.update(info_round)\n",
        "    train_loss, train_acc = global_net.evaluate(train_dataset_inner)\n",
        "    dev_loss, dev_acc = global_net.evaluate(dev_dataset_inner)\n",
        "    print('After round {}, train_loss = {}, dev_loss = {}, dev_acc = {}\\n'.format(i + 1, round(train_loss, 4), \n",
        "            round(dev_loss, 4), round(dev_acc, 4)))\n",
        "    history.append((train_loss, dev_loss))"
      ]
    },
    {
      "cell_type": "code",
      "source": [
        "all_info['round_2'][\"global_weight\"]['conv1']['weight'].data"
      ],
      "metadata": {
        "colab": {
          "base_uri": "https://localhost:8080/"
        },
        "id": "J6tpTgYdyd6C",
        "outputId": "8a928096-9f96-4ede-958f-fd089e078306"
      },
      "execution_count": null,
      "outputs": [
        {
          "output_type": "execute_result",
          "data": {
            "text/plain": [
              "tensor([[[[-0.0135]],\n",
              "\n",
              "         [[ 0.0134]],\n",
              "\n",
              "         [[-0.0136]]],\n",
              "\n",
              "\n",
              "        [[[ 0.0103]],\n",
              "\n",
              "         [[ 0.0091]],\n",
              "\n",
              "         [[ 0.0096]]],\n",
              "\n",
              "\n",
              "        [[[ 0.0101]],\n",
              "\n",
              "         [[ 0.0071]],\n",
              "\n",
              "         [[-0.0007]]],\n",
              "\n",
              "\n",
              "        [[[ 0.0101]],\n",
              "\n",
              "         [[-0.0133]],\n",
              "\n",
              "         [[ 0.0026]]]])"
            ]
          },
          "metadata": {},
          "execution_count": 324
        }
      ]
    },
    {
      "cell_type": "code",
      "source": [
        "empty_dict"
      ],
      "metadata": {
        "id": "Yo6L0VP0T_YL"
      },
      "execution_count": null,
      "outputs": []
    },
    {
      "cell_type": "code",
      "source": [
        "client_round"
      ],
      "metadata": {
        "id": "XJCY86nEK2Eb"
      },
      "execution_count": null,
      "outputs": []
    },
    {
      "cell_type": "code",
      "execution_count": null,
      "metadata": {
        "colab": {
          "base_uri": "https://localhost:8080/"
        },
        "id": "25iKaF3g6i24",
        "outputId": "9d47dd7f-1452-424c-be23-cb013b1f8818"
      },
      "outputs": [
        {
          "output_type": "execute_result",
          "data": {
            "text/plain": [
              "{'round_1': {'client_0': {'conv1': {'weight': tensor([[[[ 0.2103]]],\n",
              "    \n",
              "    \n",
              "            [[[-0.2830]]],\n",
              "    \n",
              "    \n",
              "            [[[ 0.8027]]],\n",
              "    \n",
              "    \n",
              "            [[[-0.0835]]]]),\n",
              "    'bias': tensor([-0.3483, -0.8298, -0.9834, -0.3097])},\n",
              "   'linear': {'weight': tensor([[ 0.0022,  0.0301,  0.0184,  ...,  0.0332, -0.0079,  0.0313],\n",
              "            [ 0.0240, -0.0137,  0.0353,  ...,  0.0219, -0.0223,  0.0115],\n",
              "            [ 0.0351, -0.0300,  0.0069,  ...,  0.0216, -0.0020,  0.0323],\n",
              "            ...,\n",
              "            [-0.0094,  0.0070, -0.0320,  ..., -0.0243,  0.0300,  0.0066],\n",
              "            [-0.0243, -0.0281, -0.0152,  ..., -0.0268, -0.0293, -0.0067],\n",
              "            [-0.0159,  0.0211,  0.0162,  ...,  0.0182,  0.0114, -0.0248]]),\n",
              "    'bias': tensor([-0.0109,  0.0352, -0.0276,  0.0055, -0.0031,  0.0016,  0.0251,  0.0198,\n",
              "             0.0243,  0.0146])}},\n",
              "  'client_1': {'conv1': {'weight': tensor([[[[ 0.2103]]],\n",
              "    \n",
              "    \n",
              "            [[[-0.2830]]],\n",
              "    \n",
              "    \n",
              "            [[[ 0.8027]]],\n",
              "    \n",
              "    \n",
              "            [[[-0.0835]]]]),\n",
              "    'bias': tensor([-0.3483, -0.8298, -0.9834, -0.3097])},\n",
              "   'linear': {'weight': tensor([[ 0.0033,  0.0313,  0.0195,  ...,  0.0354, -0.0057,  0.0336],\n",
              "            [ 0.0228, -0.0150,  0.0340,  ...,  0.0197, -0.0245,  0.0093],\n",
              "            [ 0.0354, -0.0298,  0.0072,  ...,  0.0227, -0.0009,  0.0334],\n",
              "            ...,\n",
              "            [-0.0085,  0.0079, -0.0311,  ..., -0.0225,  0.0318,  0.0084],\n",
              "            [-0.0248, -0.0286, -0.0157,  ..., -0.0279, -0.0304, -0.0079],\n",
              "            [-0.0163,  0.0207,  0.0158,  ...,  0.0172,  0.0104, -0.0258]]),\n",
              "    'bias': tensor([-0.0054,  0.0315, -0.0202,  0.0040, -0.0035,  0.0003,  0.0225,  0.0250,\n",
              "             0.0204,  0.0097])}},\n",
              "  'client_2': {'conv1': {'weight': tensor([[[[ 0.2103]]],\n",
              "    \n",
              "    \n",
              "            [[[-0.2830]]],\n",
              "    \n",
              "    \n",
              "            [[[ 0.8027]]],\n",
              "    \n",
              "    \n",
              "            [[[-0.0835]]]]),\n",
              "    'bias': tensor([-0.3483, -0.8298, -0.9834, -0.3097])},\n",
              "   'linear': {'weight': tensor([[ 0.0027,  0.0306,  0.0189,  ...,  0.0348, -0.0063,  0.0329],\n",
              "            [ 0.0240, -0.0138,  0.0352,  ...,  0.0207, -0.0235,  0.0103],\n",
              "            [ 0.0352, -0.0300,  0.0070,  ...,  0.0219, -0.0017,  0.0326],\n",
              "            ...,\n",
              "            [-0.0096,  0.0068, -0.0322,  ..., -0.0237,  0.0306,  0.0072],\n",
              "            [-0.0238, -0.0275, -0.0146,  ..., -0.0267, -0.0292, -0.0066],\n",
              "            [-0.0163,  0.0208,  0.0159,  ...,  0.0175,  0.0107, -0.0255]]),\n",
              "    'bias': tensor([-0.0070,  0.0323, -0.0271,  0.0059, -0.0023,  0.0003,  0.0231,  0.0211,\n",
              "             0.0251,  0.0130])}},\n",
              "  'global_weight': {'conv1': {'weight': tensor([[[[ 0.2103]]],\n",
              "    \n",
              "    \n",
              "            [[[-0.2830]]],\n",
              "    \n",
              "    \n",
              "            [[[ 0.8027]]],\n",
              "    \n",
              "    \n",
              "            [[[-0.0835]]]]),\n",
              "    'bias': tensor([-0.3483, -0.8298, -0.9834, -0.3097])},\n",
              "   'linear': {'weight': tensor([[ 0.0027,  0.0307,  0.0189,  ...,  0.0344, -0.0067,  0.0326],\n",
              "            [ 0.0236, -0.0142,  0.0348,  ...,  0.0208, -0.0234,  0.0104],\n",
              "            [ 0.0352, -0.0299,  0.0070,  ...,  0.0221, -0.0015,  0.0328],\n",
              "            ...,\n",
              "            [-0.0091,  0.0073, -0.0318,  ..., -0.0235,  0.0308,  0.0074],\n",
              "            [-0.0243, -0.0281, -0.0151,  ..., -0.0271, -0.0296, -0.0071],\n",
              "            [-0.0162,  0.0209,  0.0159,  ...,  0.0176,  0.0108, -0.0254]]),\n",
              "    'bias': tensor([-0.0078,  0.0330, -0.0250,  0.0051, -0.0030,  0.0007,  0.0236,  0.0220,\n",
              "             0.0232,  0.0124])}}},\n",
              " 'round_2': {'client_0': {'conv1': {'weight': tensor([[[[ 0.2103]]],\n",
              "    \n",
              "    \n",
              "            [[[-0.2830]]],\n",
              "    \n",
              "    \n",
              "            [[[ 0.8027]]],\n",
              "    \n",
              "    \n",
              "            [[[-0.0835]]]]),\n",
              "    'bias': tensor([-0.3483, -0.8298, -0.9834, -0.3097])},\n",
              "   'linear': {'weight': tensor([[ 0.0025,  0.0305,  0.0187,  ...,  0.0344, -0.0067,  0.0326],\n",
              "            [ 0.0257, -0.0120,  0.0369,  ...,  0.0208, -0.0234,  0.0104],\n",
              "            [ 0.0356, -0.0295,  0.0074,  ...,  0.0221, -0.0015,  0.0328],\n",
              "            ...,\n",
              "            [-0.0081,  0.0083, -0.0307,  ..., -0.0235,  0.0308,  0.0074],\n",
              "            [-0.0249, -0.0287, -0.0158,  ..., -0.0271, -0.0296, -0.0071],\n",
              "            [-0.0158,  0.0212,  0.0163,  ...,  0.0176,  0.0108, -0.0254]]),\n",
              "    'bias': tensor([-0.0088,  0.0436, -0.0232,  0.0113, -0.0034, -0.0125,  0.0160,  0.0273,\n",
              "             0.0201,  0.0140])}},\n",
              "  'client_1': {'conv1': {'weight': tensor([[[[ 0.2103]]],\n",
              "    \n",
              "    \n",
              "            [[[-0.2830]]],\n",
              "    \n",
              "    \n",
              "            [[[ 0.8027]]],\n",
              "    \n",
              "    \n",
              "            [[[-0.0835]]]]),\n",
              "    'bias': tensor([-0.3483, -0.8298, -0.9834, -0.3097])},\n",
              "   'linear': {'weight': tensor([[ 0.0030,  0.0309,  0.0191,  ...,  0.0345, -0.0066,  0.0327],\n",
              "            [ 0.0236, -0.0141,  0.0348,  ...,  0.0208, -0.0234,  0.0104],\n",
              "            [ 0.0356, -0.0296,  0.0074,  ...,  0.0222, -0.0014,  0.0329],\n",
              "            ...,\n",
              "            [-0.0091,  0.0073, -0.0317,  ..., -0.0235,  0.0308,  0.0074],\n",
              "            [-0.0247, -0.0284, -0.0155,  ..., -0.0272, -0.0297, -0.0071],\n",
              "            [-0.0161,  0.0209,  0.0160,  ...,  0.0176,  0.0108, -0.0253]]),\n",
              "    'bias': tensor([-0.0049,  0.0336, -0.0208,  0.0040, -0.0039, -0.0043,  0.0266,  0.0224,\n",
              "             0.0189,  0.0129])}},\n",
              "  'client_2': {'conv1': {'weight': tensor([[[[ 0.2103]]],\n",
              "    \n",
              "    \n",
              "            [[[-0.2830]]],\n",
              "    \n",
              "    \n",
              "            [[[ 0.8027]]],\n",
              "    \n",
              "    \n",
              "            [[[-0.0835]]]]),\n",
              "    'bias': tensor([-0.3483, -0.8298, -0.9834, -0.3097])},\n",
              "   'linear': {'weight': tensor([[ 0.0027,  0.0307,  0.0189,  ...,  0.0345, -0.0065,  0.0327],\n",
              "            [ 0.0236, -0.0142,  0.0348,  ...,  0.0214, -0.0228,  0.0110],\n",
              "            [ 0.0352, -0.0299,  0.0070,  ...,  0.0220, -0.0016,  0.0327],\n",
              "            ...,\n",
              "            [-0.0091,  0.0073, -0.0318,  ..., -0.0233,  0.0310,  0.0075],\n",
              "            [-0.0243, -0.0281, -0.0151,  ..., -0.0270, -0.0295, -0.0069],\n",
              "            [-0.0162,  0.0209,  0.0159,  ...,  0.0172,  0.0103, -0.0258]]),\n",
              "    'bias': tensor([-0.0069,  0.0387, -0.0255,  0.0089, -0.0057, -0.0028,  0.0216,  0.0237,\n",
              "             0.0244,  0.0080])}},\n",
              "  'global_weight': {'conv1': {'weight': tensor([[[[ 0.2103]]],\n",
              "    \n",
              "    \n",
              "            [[[-0.2830]]],\n",
              "    \n",
              "    \n",
              "            [[[ 0.8027]]],\n",
              "    \n",
              "    \n",
              "            [[[-0.0835]]]]),\n",
              "    'bias': tensor([-0.3483, -0.8298, -0.9834, -0.3097])},\n",
              "   'linear': {'weight': tensor([[ 0.0027,  0.0307,  0.0189,  ...,  0.0345, -0.0066,  0.0327],\n",
              "            [ 0.0243, -0.0134,  0.0355,  ...,  0.0210, -0.0232,  0.0106],\n",
              "            [ 0.0355, -0.0297,  0.0073,  ...,  0.0221, -0.0015,  0.0328],\n",
              "            ...,\n",
              "            [-0.0088,  0.0076, -0.0314,  ..., -0.0234,  0.0309,  0.0074],\n",
              "            [-0.0246, -0.0284, -0.0155,  ..., -0.0271, -0.0296, -0.0070],\n",
              "            [-0.0160,  0.0210,  0.0161,  ...,  0.0175,  0.0107, -0.0255]]),\n",
              "    'bias': tensor([-0.0068,  0.0386, -0.0232,  0.0080, -0.0044, -0.0066,  0.0214,  0.0245,\n",
              "             0.0212,  0.0116])}}}}"
            ]
          },
          "metadata": {},
          "execution_count": 161
        }
      ],
      "source": [
        "all_info"
      ]
    },
    {
      "cell_type": "code",
      "source": [
        "all_info.keys()"
      ],
      "metadata": {
        "colab": {
          "base_uri": "https://localhost:8080/"
        },
        "id": "9gDisAaUVDe4",
        "outputId": "d669334d-247c-41b2-a5ff-452cd5ed15ae"
      },
      "execution_count": null,
      "outputs": [
        {
          "output_type": "execute_result",
          "data": {
            "text/plain": [
              "dict_keys(['round_1', 'round_2'])"
            ]
          },
          "metadata": {},
          "execution_count": 164
        }
      ]
    },
    {
      "cell_type": "code",
      "source": [
        "all_info['round_1'][\"client_0\"]['conv1']"
      ],
      "metadata": {
        "colab": {
          "base_uri": "https://localhost:8080/"
        },
        "id": "XkjySRTnU0EG",
        "outputId": "663bedc7-4647-4163-8766-f863a1874fdb"
      },
      "execution_count": null,
      "outputs": [
        {
          "output_type": "execute_result",
          "data": {
            "text/plain": [
              "{'weight': tensor([[[[ 0.2103]]],\n",
              " \n",
              " \n",
              "         [[[-0.2830]]],\n",
              " \n",
              " \n",
              "         [[[ 0.8027]]],\n",
              " \n",
              " \n",
              "         [[[-0.0835]]]]),\n",
              " 'bias': tensor([-0.3483, -0.8298, -0.9834, -0.3097])}"
            ]
          },
          "metadata": {},
          "execution_count": 166
        }
      ]
    },
    {
      "cell_type": "code",
      "execution_count": null,
      "metadata": {
        "colab": {
          "base_uri": "https://localhost:8080/",
          "height": 468
        },
        "id": "iPwa3NJWwVbb",
        "outputId": "fafa4f76-beb8-47f0-d7d7-d02786b9404d"
      },
      "outputs": [
        {
          "data": {
            "image/png": "[encoded data removed]",
            "text/plain": [
              "<Figure size 500x500 with 1 Axes>"
            ]
          },
          "metadata": {},
          "output_type": "display_data"
        }
      ],
      "source": [
        "plt.plot([i + 1 for i in range(len(history))], [history[i][0] for i in range(len(history))], color='r', label='train loss')\n",
        "plt.plot([i + 1 for i in range(len(history))], [history[i][1] for i in range(len(history))], color='b', label='dev loss')\n",
        "plt.legend()\n",
        "plt.title('Training history')\n",
        "plt.show()"
      ]
    },
    {
      "cell_type": "code",
      "execution_count": null,
      "metadata": {
        "id": "PPqXxE1LwY2F"
      },
      "outputs": [],
      "source": [
        "from torchmetrics import PearsonCorrCoef"
      ]
    },
    {
      "cell_type": "code",
      "source": [
        "pearson = PearsonCorrCoef()\n",
        "pearson(all_info['round_1'][\"client_plane_0\"]['conv1'][\"weight\"].data.reshape([1,-1]), all_info['round_1'][\"client_plane_0\"]['conv1'][\"weight\"].data.reshape([1,-1]))"
      ],
      "metadata": {
        "colab": {
          "base_uri": "https://localhost:8080/",
          "height": 347
        },
        "id": "5JetaY7mtg6q",
        "outputId": "dc702cd4-3bbc-4b6e-fb59-8bd517bc5c9e"
      },
      "execution_count": null,
      "outputs": [
        {
          "output_type": "error",
          "ename": "ValueError",
          "evalue": "ignored",
          "traceback": [
            "\u001b[0;31m---------------------------------------------------------------------------\u001b[0m",
            "\u001b[0;31mValueError\u001b[0m                                Traceback (most recent call last)",
            "\u001b[0;32m<ipython-input-318-00c3c0924308>\u001b[0m in \u001b[0;36m<cell line: 2>\u001b[0;34m()\u001b[0m\n\u001b[1;32m      1\u001b[0m \u001b[0mpearson\u001b[0m \u001b[0;34m=\u001b[0m \u001b[0mPearsonCorrCoef\u001b[0m\u001b[0;34m(\u001b[0m\u001b[0;34m)\u001b[0m\u001b[0;34m\u001b[0m\u001b[0;34m\u001b[0m\u001b[0m\n\u001b[0;32m----> 2\u001b[0;31m \u001b[0mpearson\u001b[0m\u001b[0;34m(\u001b[0m\u001b[0mall_info\u001b[0m\u001b[0;34m[\u001b[0m\u001b[0;34m'round_1'\u001b[0m\u001b[0;34m]\u001b[0m\u001b[0;34m[\u001b[0m\u001b[0;34m\"client_plane_0\"\u001b[0m\u001b[0;34m]\u001b[0m\u001b[0;34m[\u001b[0m\u001b[0;34m'conv1'\u001b[0m\u001b[0;34m]\u001b[0m\u001b[0;34m[\u001b[0m\u001b[0;34m\"weight\"\u001b[0m\u001b[0;34m]\u001b[0m\u001b[0;34m.\u001b[0m\u001b[0mdata\u001b[0m\u001b[0;34m.\u001b[0m\u001b[0mreshape\u001b[0m\u001b[0;34m(\u001b[0m\u001b[0;34m[\u001b[0m\u001b[0;36m1\u001b[0m\u001b[0;34m,\u001b[0m\u001b[0;34m-\u001b[0m\u001b[0;36m1\u001b[0m\u001b[0;34m]\u001b[0m\u001b[0;34m)\u001b[0m\u001b[0;34m,\u001b[0m \u001b[0mall_info\u001b[0m\u001b[0;34m[\u001b[0m\u001b[0;34m'round_1'\u001b[0m\u001b[0;34m]\u001b[0m\u001b[0;34m[\u001b[0m\u001b[0;34m\"client_plane_0\"\u001b[0m\u001b[0;34m]\u001b[0m\u001b[0;34m[\u001b[0m\u001b[0;34m'conv1'\u001b[0m\u001b[0;34m]\u001b[0m\u001b[0;34m[\u001b[0m\u001b[0;34m\"weight\"\u001b[0m\u001b[0;34m]\u001b[0m\u001b[0;34m.\u001b[0m\u001b[0mdata\u001b[0m\u001b[0;34m.\u001b[0m\u001b[0mreshape\u001b[0m\u001b[0;34m(\u001b[0m\u001b[0;34m[\u001b[0m\u001b[0;36m1\u001b[0m\u001b[0;34m,\u001b[0m\u001b[0;34m-\u001b[0m\u001b[0;36m1\u001b[0m\u001b[0;34m]\u001b[0m\u001b[0;34m)\u001b[0m\u001b[0;34m)\u001b[0m\u001b[0;34m\u001b[0m\u001b[0;34m\u001b[0m\u001b[0m\n\u001b[0m",
            "\u001b[0;32m/usr/local/lib/python3.10/dist-packages/torch/nn/modules/module.py\u001b[0m in \u001b[0;36m_call_impl\u001b[0;34m(self, *args, **kwargs)\u001b[0m\n\u001b[1;32m   1499\u001b[0m                 \u001b[0;32mor\u001b[0m \u001b[0m_global_backward_pre_hooks\u001b[0m \u001b[0;32mor\u001b[0m \u001b[0m_global_backward_hooks\u001b[0m\u001b[0;34m\u001b[0m\u001b[0;34m\u001b[0m\u001b[0m\n\u001b[1;32m   1500\u001b[0m                 or _global_forward_hooks or _global_forward_pre_hooks):\n\u001b[0;32m-> 1501\u001b[0;31m             \u001b[0;32mreturn\u001b[0m \u001b[0mforward_call\u001b[0m\u001b[0;34m(\u001b[0m\u001b[0;34m*\u001b[0m\u001b[0margs\u001b[0m\u001b[0;34m,\u001b[0m \u001b[0;34m**\u001b[0m\u001b[0mkwargs\u001b[0m\u001b[0;34m)\u001b[0m\u001b[0;34m\u001b[0m\u001b[0;34m\u001b[0m\u001b[0m\n\u001b[0m\u001b[1;32m   1502\u001b[0m         \u001b[0;31m# Do not call functions when jit is used\u001b[0m\u001b[0;34m\u001b[0m\u001b[0;34m\u001b[0m\u001b[0m\n\u001b[1;32m   1503\u001b[0m         \u001b[0mfull_backward_hooks\u001b[0m\u001b[0;34m,\u001b[0m \u001b[0mnon_full_backward_hooks\u001b[0m \u001b[0;34m=\u001b[0m \u001b[0;34m[\u001b[0m\u001b[0;34m]\u001b[0m\u001b[0;34m,\u001b[0m \u001b[0;34m[\u001b[0m\u001b[0;34m]\u001b[0m\u001b[0;34m\u001b[0m\u001b[0;34m\u001b[0m\u001b[0m\n",
            "\u001b[0;32m/usr/local/lib/python3.10/dist-packages/torchmetrics/metric.py\u001b[0m in \u001b[0;36mforward\u001b[0;34m(self, *args, **kwargs)\u001b[0m\n\u001b[1;32m    232\u001b[0m \u001b[0;34m\u001b[0m\u001b[0m\n\u001b[1;32m    233\u001b[0m         \u001b[0;32mif\u001b[0m \u001b[0mself\u001b[0m\u001b[0;34m.\u001b[0m\u001b[0mfull_state_update\u001b[0m \u001b[0;32mor\u001b[0m \u001b[0mself\u001b[0m\u001b[0;34m.\u001b[0m\u001b[0mfull_state_update\u001b[0m \u001b[0;32mis\u001b[0m \u001b[0;32mNone\u001b[0m \u001b[0;32mor\u001b[0m \u001b[0mself\u001b[0m\u001b[0;34m.\u001b[0m\u001b[0mdist_sync_on_step\u001b[0m\u001b[0;34m:\u001b[0m\u001b[0;34m\u001b[0m\u001b[0;34m\u001b[0m\u001b[0m\n\u001b[0;32m--> 234\u001b[0;31m             \u001b[0mself\u001b[0m\u001b[0;34m.\u001b[0m\u001b[0m_forward_cache\u001b[0m \u001b[0;34m=\u001b[0m \u001b[0mself\u001b[0m\u001b[0;34m.\u001b[0m\u001b[0m_forward_full_state_update\u001b[0m\u001b[0;34m(\u001b[0m\u001b[0;34m*\u001b[0m\u001b[0margs\u001b[0m\u001b[0;34m,\u001b[0m \u001b[0;34m**\u001b[0m\u001b[0mkwargs\u001b[0m\u001b[0;34m)\u001b[0m\u001b[0;34m\u001b[0m\u001b[0;34m\u001b[0m\u001b[0m\n\u001b[0m\u001b[1;32m    235\u001b[0m         \u001b[0;32melse\u001b[0m\u001b[0;34m:\u001b[0m\u001b[0;34m\u001b[0m\u001b[0;34m\u001b[0m\u001b[0m\n\u001b[1;32m    236\u001b[0m             \u001b[0mself\u001b[0m\u001b[0;34m.\u001b[0m\u001b[0m_forward_cache\u001b[0m \u001b[0;34m=\u001b[0m \u001b[0mself\u001b[0m\u001b[0;34m.\u001b[0m\u001b[0m_forward_reduce_state_update\u001b[0m\u001b[0;34m(\u001b[0m\u001b[0;34m*\u001b[0m\u001b[0margs\u001b[0m\u001b[0;34m,\u001b[0m \u001b[0;34m**\u001b[0m\u001b[0mkwargs\u001b[0m\u001b[0;34m)\u001b[0m\u001b[0;34m\u001b[0m\u001b[0;34m\u001b[0m\u001b[0m\n",
            "\u001b[0;32m/usr/local/lib/python3.10/dist-packages/torchmetrics/metric.py\u001b[0m in \u001b[0;36m_forward_full_state_update\u001b[0;34m(self, *args, **kwargs)\u001b[0m\n\u001b[1;32m    245\u001b[0m         \"\"\"\n\u001b[1;32m    246\u001b[0m         \u001b[0;31m# global accumulation\u001b[0m\u001b[0;34m\u001b[0m\u001b[0;34m\u001b[0m\u001b[0m\n\u001b[0;32m--> 247\u001b[0;31m         \u001b[0mself\u001b[0m\u001b[0;34m.\u001b[0m\u001b[0mupdate\u001b[0m\u001b[0;34m(\u001b[0m\u001b[0;34m*\u001b[0m\u001b[0margs\u001b[0m\u001b[0;34m,\u001b[0m \u001b[0;34m**\u001b[0m\u001b[0mkwargs\u001b[0m\u001b[0;34m)\u001b[0m\u001b[0;34m\u001b[0m\u001b[0;34m\u001b[0m\u001b[0m\n\u001b[0m\u001b[1;32m    248\u001b[0m         \u001b[0m_update_count\u001b[0m \u001b[0;34m=\u001b[0m \u001b[0mself\u001b[0m\u001b[0;34m.\u001b[0m\u001b[0m_update_count\u001b[0m\u001b[0;34m\u001b[0m\u001b[0;34m\u001b[0m\u001b[0m\n\u001b[1;32m    249\u001b[0m \u001b[0;34m\u001b[0m\u001b[0m\n",
            "\u001b[0;32m/usr/local/lib/python3.10/dist-packages/torchmetrics/metric.py\u001b[0m in \u001b[0;36mwrapped_func\u001b[0;34m(*args, **kwargs)\u001b[0m\n\u001b[1;32m    388\u001b[0m             \u001b[0;32mwith\u001b[0m \u001b[0mtorch\u001b[0m\u001b[0;34m.\u001b[0m\u001b[0mset_grad_enabled\u001b[0m\u001b[0;34m(\u001b[0m\u001b[0mself\u001b[0m\u001b[0;34m.\u001b[0m\u001b[0m_enable_grad\u001b[0m\u001b[0;34m)\u001b[0m\u001b[0;34m:\u001b[0m\u001b[0;34m\u001b[0m\u001b[0;34m\u001b[0m\u001b[0m\n\u001b[1;32m    389\u001b[0m                 \u001b[0;32mtry\u001b[0m\u001b[0;34m:\u001b[0m\u001b[0;34m\u001b[0m\u001b[0;34m\u001b[0m\u001b[0m\n\u001b[0;32m--> 390\u001b[0;31m                     \u001b[0mupdate\u001b[0m\u001b[0;34m(\u001b[0m\u001b[0;34m*\u001b[0m\u001b[0margs\u001b[0m\u001b[0;34m,\u001b[0m \u001b[0;34m**\u001b[0m\u001b[0mkwargs\u001b[0m\u001b[0;34m)\u001b[0m\u001b[0;34m\u001b[0m\u001b[0;34m\u001b[0m\u001b[0m\n\u001b[0m\u001b[1;32m    391\u001b[0m                 \u001b[0;32mexcept\u001b[0m \u001b[0mRuntimeError\u001b[0m \u001b[0;32mas\u001b[0m \u001b[0merr\u001b[0m\u001b[0;34m:\u001b[0m\u001b[0;34m\u001b[0m\u001b[0;34m\u001b[0m\u001b[0m\n\u001b[1;32m    392\u001b[0m                     \u001b[0;32mif\u001b[0m \u001b[0;34m\"Expected all tensors to be on\"\u001b[0m \u001b[0;32min\u001b[0m \u001b[0mstr\u001b[0m\u001b[0;34m(\u001b[0m\u001b[0merr\u001b[0m\u001b[0;34m)\u001b[0m\u001b[0;34m:\u001b[0m\u001b[0;34m\u001b[0m\u001b[0;34m\u001b[0m\u001b[0m\n",
            "\u001b[0;32m/usr/local/lib/python3.10/dist-packages/torchmetrics/regression/pearson.py\u001b[0m in \u001b[0;36mupdate\u001b[0;34m(self, preds, target)\u001b[0m\n\u001b[1;32m    135\u001b[0m     \u001b[0;32mdef\u001b[0m \u001b[0mupdate\u001b[0m\u001b[0;34m(\u001b[0m\u001b[0mself\u001b[0m\u001b[0;34m,\u001b[0m \u001b[0mpreds\u001b[0m\u001b[0;34m:\u001b[0m \u001b[0mTensor\u001b[0m\u001b[0;34m,\u001b[0m \u001b[0mtarget\u001b[0m\u001b[0;34m:\u001b[0m \u001b[0mTensor\u001b[0m\u001b[0;34m)\u001b[0m \u001b[0;34m->\u001b[0m \u001b[0;32mNone\u001b[0m\u001b[0;34m:\u001b[0m\u001b[0;34m\u001b[0m\u001b[0;34m\u001b[0m\u001b[0m\n\u001b[1;32m    136\u001b[0m         \u001b[0;34m\"\"\"Update state with predictions and targets.\"\"\"\u001b[0m\u001b[0;34m\u001b[0m\u001b[0;34m\u001b[0m\u001b[0m\n\u001b[0;32m--> 137\u001b[0;31m         self.mean_x, self.mean_y, self.var_x, self.var_y, self.corr_xy, self.n_total = _pearson_corrcoef_update(\n\u001b[0m\u001b[1;32m    138\u001b[0m             \u001b[0mpreds\u001b[0m\u001b[0;34m,\u001b[0m\u001b[0;34m\u001b[0m\u001b[0;34m\u001b[0m\u001b[0m\n\u001b[1;32m    139\u001b[0m             \u001b[0mtarget\u001b[0m\u001b[0;34m,\u001b[0m\u001b[0;34m\u001b[0m\u001b[0;34m\u001b[0m\u001b[0m\n",
            "\u001b[0;32m/usr/local/lib/python3.10/dist-packages/torchmetrics/functional/regression/pearson.py\u001b[0m in \u001b[0;36m_pearson_corrcoef_update\u001b[0;34m(preds, target, mean_x, mean_y, var_x, var_y, corr_xy, n_prior, num_outputs)\u001b[0m\n\u001b[1;32m     46\u001b[0m     \u001b[0;31m# Data checking\u001b[0m\u001b[0;34m\u001b[0m\u001b[0;34m\u001b[0m\u001b[0m\n\u001b[1;32m     47\u001b[0m     \u001b[0m_check_same_shape\u001b[0m\u001b[0;34m(\u001b[0m\u001b[0mpreds\u001b[0m\u001b[0;34m,\u001b[0m \u001b[0mtarget\u001b[0m\u001b[0;34m)\u001b[0m\u001b[0;34m\u001b[0m\u001b[0;34m\u001b[0m\u001b[0m\n\u001b[0;32m---> 48\u001b[0;31m     \u001b[0m_check_data_shape_to_num_outputs\u001b[0m\u001b[0;34m(\u001b[0m\u001b[0mpreds\u001b[0m\u001b[0;34m,\u001b[0m \u001b[0mtarget\u001b[0m\u001b[0;34m,\u001b[0m \u001b[0mnum_outputs\u001b[0m\u001b[0;34m)\u001b[0m\u001b[0;34m\u001b[0m\u001b[0;34m\u001b[0m\u001b[0m\n\u001b[0m\u001b[1;32m     49\u001b[0m \u001b[0;34m\u001b[0m\u001b[0m\n\u001b[1;32m     50\u001b[0m     \u001b[0mn_obs\u001b[0m \u001b[0;34m=\u001b[0m \u001b[0mpreds\u001b[0m\u001b[0;34m.\u001b[0m\u001b[0mshape\u001b[0m\u001b[0;34m[\u001b[0m\u001b[0;36m0\u001b[0m\u001b[0;34m]\u001b[0m\u001b[0;34m\u001b[0m\u001b[0;34m\u001b[0m\u001b[0m\n",
            "\u001b[0;32m/usr/local/lib/python3.10/dist-packages/torchmetrics/functional/regression/utils.py\u001b[0m in \u001b[0;36m_check_data_shape_to_num_outputs\u001b[0;34m(preds, target, num_outputs)\u001b[0m\n\u001b[1;32m     23\u001b[0m         )\n\u001b[1;32m     24\u001b[0m     \u001b[0;32mif\u001b[0m \u001b[0;34m(\u001b[0m\u001b[0mnum_outputs\u001b[0m \u001b[0;34m==\u001b[0m \u001b[0;36m1\u001b[0m \u001b[0;32mand\u001b[0m \u001b[0mpreds\u001b[0m\u001b[0;34m.\u001b[0m\u001b[0mndim\u001b[0m \u001b[0;34m!=\u001b[0m \u001b[0;36m1\u001b[0m\u001b[0;34m)\u001b[0m \u001b[0;32mor\u001b[0m \u001b[0;34m(\u001b[0m\u001b[0mnum_outputs\u001b[0m \u001b[0;34m>\u001b[0m \u001b[0;36m1\u001b[0m \u001b[0;32mand\u001b[0m \u001b[0mnum_outputs\u001b[0m \u001b[0;34m!=\u001b[0m \u001b[0mpreds\u001b[0m\u001b[0;34m.\u001b[0m\u001b[0mshape\u001b[0m\u001b[0;34m[\u001b[0m\u001b[0;36m1\u001b[0m\u001b[0;34m]\u001b[0m\u001b[0;34m)\u001b[0m\u001b[0;34m:\u001b[0m\u001b[0;34m\u001b[0m\u001b[0;34m\u001b[0m\u001b[0m\n\u001b[0;32m---> 25\u001b[0;31m         raise ValueError(\n\u001b[0m\u001b[1;32m     26\u001b[0m             \u001b[0;34mf\"Expected argument `num_outputs` to match the second dimension of input, but got {num_outputs}\"\u001b[0m\u001b[0;34m\u001b[0m\u001b[0;34m\u001b[0m\u001b[0m\n\u001b[1;32m     27\u001b[0m             \u001b[0;34mf\" and {preds.shape[1]}.\"\u001b[0m\u001b[0;34m\u001b[0m\u001b[0;34m\u001b[0m\u001b[0m\n",
            "\u001b[0;31mValueError\u001b[0m: Expected argument `num_outputs` to match the second dimension of input, but got 1 and 12."
          ]
        }
      ]
    },
    {
      "cell_type": "code",
      "source": [
        "all_info['round_1'][\"client_plane_0\"]['conv1'][\"weight\"].data.reshape([2,-1])"
      ],
      "metadata": {
        "colab": {
          "base_uri": "https://localhost:8080/"
        },
        "id": "0dIIiinjuDvs",
        "outputId": "1c5ad6a4-64bc-446b-db66-15f45c2a7138"
      },
      "execution_count": null,
      "outputs": [
        {
          "output_type": "execute_result",
          "data": {
            "text/plain": [
              "tensor([[-0.5085,  0.5274, -0.5161,  0.3827,  0.3365,  0.3572],\n",
              "        [ 0.3950,  0.2911, -0.0009,  0.3895, -0.5123,  0.1007]])"
            ]
          },
          "metadata": {},
          "execution_count": 316
        }
      ]
    },
    {
      "cell_type": "code",
      "source": [
        "all_info['round_1']"
      ],
      "metadata": {
        "colab": {
          "base_uri": "https://localhost:8080/"
        },
        "id": "TI-yhNiAuavf",
        "outputId": "bb4cb122-6c4d-4ce6-dce6-fe9264be8e45"
      },
      "execution_count": null,
      "outputs": [
        {
          "output_type": "execute_result",
          "data": {
            "text/plain": [
              "{'client_0': None,\n",
              " 'client_1': None,\n",
              " 'client_2': None,\n",
              " 'client_plane_0': {'conv1': {'weight': tensor([[[[-0.5085]],\n",
              "   \n",
              "            [[ 0.5274]],\n",
              "   \n",
              "            [[-0.5161]]],\n",
              "   \n",
              "   \n",
              "           [[[ 0.3827]],\n",
              "   \n",
              "            [[ 0.3365]],\n",
              "   \n",
              "            [[ 0.3572]]],\n",
              "   \n",
              "   \n",
              "           [[[ 0.3950]],\n",
              "   \n",
              "            [[ 0.2911]],\n",
              "   \n",
              "            [[-0.0009]]],\n",
              "   \n",
              "   \n",
              "           [[[ 0.3895]],\n",
              "   \n",
              "            [[-0.5123]],\n",
              "   \n",
              "            [[ 0.1007]]]]),\n",
              "   'bias': tensor([-0.1761,  0.4845,  0.5836, -0.4870])},\n",
              "  'linear': {'weight': tensor([[ 0.0300, -0.0093, -0.0029,  ...,  0.0215,  0.0373,  0.0464],\n",
              "           [-0.0293, -0.0171,  0.0150,  ...,  0.0081, -0.0166,  0.0053],\n",
              "           [ 0.0154,  0.0055, -0.0276,  ..., -0.0328, -0.0030,  0.0019],\n",
              "           ...,\n",
              "           [ 0.0180,  0.0151, -0.0065,  ...,  0.0239, -0.0151,  0.0025],\n",
              "           [-0.0185, -0.0054,  0.0165,  ..., -0.0240, -0.0168,  0.0261],\n",
              "           [-0.0221,  0.0074, -0.0148,  ..., -0.0174,  0.0116, -0.0129]]),\n",
              "   'bias': tensor([ 0.0724,  0.0052,  0.0006, -0.0177,  0.0085, -0.0353,  0.0146, -0.0338,\n",
              "           -0.0097, -0.0206])}},\n",
              " 'client_plane_1': {'conv1': {'weight': tensor([[[[-0.5139]],\n",
              "   \n",
              "            [[ 0.5226]],\n",
              "   \n",
              "            [[-0.5222]]],\n",
              "   \n",
              "   \n",
              "           [[[ 0.3954]],\n",
              "   \n",
              "            [[ 0.3519]],\n",
              "   \n",
              "            [[ 0.3743]]],\n",
              "   \n",
              "   \n",
              "           [[[ 0.3954]],\n",
              "   \n",
              "            [[ 0.2886]],\n",
              "   \n",
              "            [[-0.0059]]],\n",
              "   \n",
              "   \n",
              "           [[[ 0.3894]],\n",
              "   \n",
              "            [[-0.5123]],\n",
              "   \n",
              "            [[ 0.1007]]]]),\n",
              "   'bias': tensor([-0.1644,  0.5321,  0.5310, -0.4870])},\n",
              "  'linear': {'weight': tensor([[ 0.0171, -0.0223, -0.0161,  ...,  0.0233,  0.0391,  0.0483],\n",
              "           [-0.0279, -0.0157,  0.0165,  ...,  0.0079, -0.0167,  0.0051],\n",
              "           [ 0.0170,  0.0071, -0.0259,  ..., -0.0330, -0.0032,  0.0017],\n",
              "           ...,\n",
              "           [ 0.0195,  0.0166, -0.0049,  ...,  0.0235, -0.0155,  0.0021],\n",
              "           [-0.0174, -0.0044,  0.0176,  ..., -0.0243, -0.0171,  0.0258],\n",
              "           [-0.0205,  0.0091, -0.0132,  ..., -0.0176,  0.0114, -0.0131]]),\n",
              "   'bias': tensor([ 0.0630,  0.0063,  0.0019, -0.0167,  0.0092, -0.0337,  0.0159, -0.0330,\n",
              "           -0.0092, -0.0193])}},\n",
              " 'client_plane_2': {'conv1': {'weight': tensor([[[[-0.4983]],\n",
              "   \n",
              "            [[ 0.5368]],\n",
              "   \n",
              "            [[-0.5070]]],\n",
              "   \n",
              "   \n",
              "           [[[ 0.3951]],\n",
              "   \n",
              "            [[ 0.3523]],\n",
              "   \n",
              "            [[ 0.3755]]],\n",
              "   \n",
              "   \n",
              "           [[[ 0.4086]],\n",
              "   \n",
              "            [[ 0.3026]],\n",
              "   \n",
              "            [[ 0.0080]]],\n",
              "   \n",
              "   \n",
              "           [[[ 0.3895]],\n",
              "   \n",
              "            [[-0.5123]],\n",
              "   \n",
              "            [[ 0.1007]]]]),\n",
              "   'bias': tensor([-0.1906,  0.5396,  0.5556, -0.4870])},\n",
              "  'linear': {'weight': tensor([[ 0.0328, -0.0065, -0.0004,  ..., -0.0029,  0.0130,  0.0222],\n",
              "           [-0.0297, -0.0175,  0.0147,  ...,  0.0107, -0.0139,  0.0079],\n",
              "           [ 0.0152,  0.0053, -0.0277,  ..., -0.0296,  0.0002,  0.0050],\n",
              "           ...,\n",
              "           [ 0.0178,  0.0149, -0.0066,  ...,  0.0269, -0.0121,  0.0055],\n",
              "           [-0.0190, -0.0059,  0.0160,  ..., -0.0219, -0.0147,  0.0282],\n",
              "           [-0.0224,  0.0072, -0.0151,  ..., -0.0143,  0.0146, -0.0099]]),\n",
              "   'bias': tensor([ 0.0832,  0.0039,  0.0002, -0.0186,  0.0067, -0.0353,  0.0120, -0.0347,\n",
              "           -0.0116, -0.0216])}},\n",
              " 'client_car_0': {'conv1': {'weight': tensor([[[[-0.4903]],\n",
              "   \n",
              "            [[ 0.5447]],\n",
              "   \n",
              "            [[-0.4954]]],\n",
              "   \n",
              "   \n",
              "           [[[ 0.4030]],\n",
              "   \n",
              "            [[ 0.3520]],\n",
              "   \n",
              "            [[ 0.3703]]],\n",
              "   \n",
              "   \n",
              "           [[[ 0.3951]],\n",
              "   \n",
              "            [[ 0.2852]],\n",
              "   \n",
              "            [[-0.0095]]],\n",
              "   \n",
              "   \n",
              "           [[[ 0.3895]],\n",
              "   \n",
              "            [[-0.5123]],\n",
              "   \n",
              "            [[ 0.1007]]]]),\n",
              "   'bias': tensor([-0.2091,  0.6153,  0.6398, -0.4870])},\n",
              "  'linear': {'weight': tensor([[ 0.0105, -0.0287, -0.0223,  ..., -0.0035,  0.0124,  0.0215],\n",
              "           [-0.0123, -0.0002,  0.0320,  ...,  0.0174, -0.0073,  0.0150],\n",
              "           [ 0.0159,  0.0060, -0.0271,  ..., -0.0305, -0.0007,  0.0041],\n",
              "           ...,\n",
              "           [ 0.0184,  0.0155, -0.0061,  ...,  0.0260, -0.0130,  0.0046],\n",
              "           [-0.0185, -0.0054,  0.0165,  ..., -0.0225, -0.0153,  0.0275],\n",
              "           [-0.0217,  0.0079, -0.0144,  ..., -0.0152,  0.0138, -0.0108]]),\n",
              "   'bias': tensor([-0.0014,  0.0941, -0.0007, -0.0193,  0.0058, -0.0360,  0.0117, -0.0356,\n",
              "           -0.0123, -0.0222])}},\n",
              " 'client_car_1': {'conv1': {'weight': tensor([[[[-0.4985]],\n",
              "   \n",
              "            [[ 0.5373]],\n",
              "   \n",
              "            [[-0.5053]]],\n",
              "   \n",
              "   \n",
              "           [[[ 0.3927]],\n",
              "   \n",
              "            [[ 0.3446]],\n",
              "   \n",
              "            [[ 0.3635]]],\n",
              "   \n",
              "   \n",
              "           [[[ 0.3917]],\n",
              "   \n",
              "            [[ 0.2863]],\n",
              "   \n",
              "            [[-0.0069]]],\n",
              "   \n",
              "   \n",
              "           [[[ 0.3896]],\n",
              "   \n",
              "            [[-0.5124]],\n",
              "   \n",
              "            [[ 0.1005]]]]),\n",
              "   'bias': tensor([-0.1918,  0.5606,  0.5652, -0.4868])},\n",
              "  'linear': {'weight': tensor([[ 0.0084, -0.0309, -0.0245,  ..., -0.0051,  0.0108,  0.0198],\n",
              "           [-0.0010,  0.0116,  0.0439,  ...,  0.0260,  0.0017,  0.0240],\n",
              "           [ 0.0143,  0.0044, -0.0287,  ..., -0.0315, -0.0018,  0.0030],\n",
              "           ...,\n",
              "           [ 0.0171,  0.0141, -0.0075,  ...,  0.0250, -0.0140,  0.0035],\n",
              "           [-0.0189, -0.0059,  0.0160,  ..., -0.0230, -0.0158,  0.0270],\n",
              "           [-0.0233,  0.0063, -0.0161,  ..., -0.0163,  0.0126, -0.0120]]),\n",
              "   'bias': tensor([ 0.0009,  0.0560,  0.0035, -0.0149,  0.0109, -0.0325,  0.0165, -0.0309,\n",
              "           -0.0073, -0.0180])}},\n",
              " 'client_car_2': {'conv1': {'weight': tensor([[[[-0.5137]],\n",
              "   \n",
              "            [[ 0.5224]],\n",
              "   \n",
              "            [[-0.5223]]],\n",
              "   \n",
              "   \n",
              "           [[[ 0.3855]],\n",
              "   \n",
              "            [[ 0.3402]],\n",
              "   \n",
              "            [[ 0.3614]]],\n",
              "   \n",
              "   \n",
              "           [[[ 0.3939]],\n",
              "   \n",
              "            [[ 0.2861]],\n",
              "   \n",
              "            [[-0.0080]]],\n",
              "   \n",
              "   \n",
              "           [[[ 0.3899]],\n",
              "   \n",
              "            [[-0.5128]],\n",
              "   \n",
              "            [[ 0.1002]]]]),\n",
              "   'bias': tensor([-0.1655,  0.5011,  0.6288, -0.4863])},\n",
              "  'linear': {'weight': tensor([[ 0.0099, -0.0293, -0.0229,  ..., -0.0053,  0.0105,  0.0197],\n",
              "           [-0.0101,  0.0021,  0.0344,  ...,  0.0311,  0.0066,  0.0286],\n",
              "           [ 0.0154,  0.0055, -0.0276,  ..., -0.0324, -0.0026,  0.0022],\n",
              "           ...,\n",
              "           [ 0.0181,  0.0152, -0.0064,  ...,  0.0244, -0.0146,  0.0030],\n",
              "           [-0.0183, -0.0053,  0.0166,  ..., -0.0235, -0.0163,  0.0266],\n",
              "           [-0.0221,  0.0075, -0.0148,  ..., -0.0170,  0.0120, -0.0126]]),\n",
              "   'bias': tensor([ 0.0021,  0.0525,  0.0037, -0.0145,  0.0111, -0.0323,  0.0172, -0.0307,\n",
              "           -0.0071, -0.0175])}},\n",
              " 'global_weight': {'conv1': {'weight': tensor([[[[-0.0812]],\n",
              "   \n",
              "            [[ 0.0857]],\n",
              "   \n",
              "            [[-0.0824]]],\n",
              "   \n",
              "   \n",
              "           [[[ 0.0632]],\n",
              "   \n",
              "            [[ 0.0558]],\n",
              "   \n",
              "            [[ 0.0591]]],\n",
              "   \n",
              "   \n",
              "           [[[ 0.0639]],\n",
              "   \n",
              "            [[ 0.0467]],\n",
              "   \n",
              "            [[-0.0006]]],\n",
              "   \n",
              "   \n",
              "           [[[ 0.0628]],\n",
              "   \n",
              "            [[-0.0826]],\n",
              "   \n",
              "            [[ 0.0162]]]]),\n",
              "   'bias': tensor([-0.0295,  0.0868,  0.0941, -0.0785])},\n",
              "  'linear': {'weight': tensor([[ 0.0029, -0.0034, -0.0024,  ...,  0.0008,  0.0033,  0.0048],\n",
              "           [-0.0030, -0.0010,  0.0042,  ...,  0.0027, -0.0012,  0.0023],\n",
              "           [ 0.0025,  0.0009, -0.0044,  ..., -0.0051, -0.0003,  0.0005],\n",
              "           ...,\n",
              "           [ 0.0029,  0.0025, -0.0010,  ...,  0.0040, -0.0023,  0.0006],\n",
              "           [-0.0030, -0.0009,  0.0027,  ..., -0.0037, -0.0026,  0.0043],\n",
              "           [-0.0035,  0.0012, -0.0024,  ..., -0.0026,  0.0020, -0.0019]]),\n",
              "   'bias': tensor([ 0.0059,  0.0058,  0.0002, -0.0027,  0.0014, -0.0055,  0.0024, -0.0053,\n",
              "           -0.0015, -0.0032])}}}"
            ]
          },
          "metadata": {},
          "execution_count": 312
        }
      ]
    },
    {
      "cell_type": "code",
      "source": [],
      "metadata": {
        "id": "uLMt4ZCVub9w"
      },
      "execution_count": null,
      "outputs": []
    }
  ],
  "metadata": {
    "colab": {
      "provenance": [],
      "authorship_tag": "ABX9TyM4wDeMdBCtAOJBAV1VNI7n",
      "include_colab_link": true
    },
    "kernelspec": {
      "display_name": "Python 3",
      "name": "python3"
    },
    "language_info": {
      "name": "python"
    }
  },
  "nbformat": 4,
  "nbformat_minor": 0
}